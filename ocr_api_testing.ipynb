{
 "cells": [
  {
   "cell_type": "code",
   "execution_count": 1,
   "id": "7c02a411",
   "metadata": {},
   "outputs": [],
   "source": [
    "from typing import Dict, Any, Optional\n",
    "import os\n",
    "import json\n",
    "import base64\n",
    "from pathlib import Path\n",
    "from io import BytesIO\n",
    "import re\n",
    "\n",
    "from mistralai import Mistral\n",
    "from mistralai.client import MistralClient\n",
    "from mistralai.models import File\n",
    "\n",
    "from dotenv import load_dotenv"
   ]
  },
  {
   "cell_type": "code",
   "execution_count": 2,
   "id": "596a1282",
   "metadata": {},
   "outputs": [
    {
     "data": {
      "text/plain": [
       "True"
      ]
     },
     "execution_count": 2,
     "metadata": {},
     "output_type": "execute_result"
    }
   ],
   "source": [
    "load_dotenv()"
   ]
  },
  {
   "cell_type": "code",
   "execution_count": 4,
   "id": "8b7d6a8f",
   "metadata": {},
   "outputs": [],
   "source": [
    "client = Mistral(api_key=os.getenv('MISTRAL_API_KEY'))"
   ]
  },
  {
   "cell_type": "code",
   "execution_count": 5,
   "id": "016c9a35",
   "metadata": {},
   "outputs": [],
   "source": [
    "def _encode_image(image_path: str) -> str:\n",
    "    \"\"\"\n",
    "    Encode an image file to base64 string.\n",
    "    \n",
    "    Args:\n",
    "        image_path: Path to the image file\n",
    "        \n",
    "    Returns:\n",
    "        Base64 encoded string of the image\n",
    "    \"\"\"\n",
    "    with open(image_path, \"rb\") as image_file:\n",
    "        return base64.b64encode(image_file.read()).decode(\"utf-8\")"
   ]
  },
  {
   "cell_type": "code",
   "execution_count": 6,
   "id": "dab73c92",
   "metadata": {},
   "outputs": [],
   "source": [
    "image_path = \"tests/test_data/IMG_1356.jpeg\""
   ]
  },
  {
   "cell_type": "code",
   "execution_count": 7,
   "id": "19967567",
   "metadata": {},
   "outputs": [
    {
     "data": {
      "text/plain": [
       "True"
      ]
     },
     "execution_count": 7,
     "metadata": {},
     "output_type": "execute_result"
    }
   ],
   "source": [
    "os.path.isfile(image_path)"
   ]
  },
  {
   "cell_type": "code",
   "execution_count": 8,
   "id": "4148f124",
   "metadata": {},
   "outputs": [],
   "source": [
    "ocr_response = client.ocr.process(\n",
    "    model=\"mistral-ocr-latest\",\n",
    "    include_image_base64=True,\n",
    "    document={\n",
    "        \"type\": \"image_url\",\n",
    "        \"image_url\": f\"data:image/jpg;base64,{_encode_image(image_path)}\"\n",
    "    }\n",
    ")"
   ]
  },
  {
   "cell_type": "code",
   "execution_count": 9,
   "id": "6e2d109b",
   "metadata": {},
   "outputs": [
    {
     "data": {
      "text/plain": [
       "\"# GROCERY \\n\\n284061239 FAIRLIFE\\nNF \\\\$19.96\\n4 @ \\\\$4.99 ea\\n284031158 GG EGGS\\nNF \\\\$7.39\\n266010019 GG CITRUS\\nNF \\\\$4.99\\n071051828 WAVY LAYS\\nNF \\\\$5.89\\n071050637 LAY'S\\nNF \\\\$5.98\\n2 @ \\\\$2.99 ea\\nRegular Price \\\\$3.99\\nBOG050\\\\% Circle\\nNON RETAIL\\n004100019 TARGET BAG\\nT P \\\\$0.00\\n2 @ \\\\$0.00 ea\\nBag Fee\\n\\\\$0.20\\nSUBTOTAL \\\\$44.41\\nTOTAL \\\\$11.1\""
      ]
     },
     "execution_count": 9,
     "metadata": {},
     "output_type": "execute_result"
    }
   ],
   "source": [
    "ocr_response.pages[0].markdown"
   ]
  },
  {
   "cell_type": "code",
   "execution_count": null,
   "id": "e4c5ab84",
   "metadata": {},
   "outputs": [],
   "source": []
  }
 ],
 "metadata": {
  "kernelspec": {
   "display_name": ".venv",
   "language": "python",
   "name": "python3"
  },
  "language_info": {
   "codemirror_mode": {
    "name": "ipython",
    "version": 3
   },
   "file_extension": ".py",
   "mimetype": "text/x-python",
   "name": "python",
   "nbconvert_exporter": "python",
   "pygments_lexer": "ipython3",
   "version": "3.13.2"
  }
 },
 "nbformat": 4,
 "nbformat_minor": 5
}
